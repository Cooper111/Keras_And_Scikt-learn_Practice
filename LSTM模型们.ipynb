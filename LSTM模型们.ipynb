{
 "cells": [
  {
   "cell_type": "code",
   "execution_count": 1,
   "metadata": {},
   "outputs": [
    {
     "name": "stderr",
     "output_type": "stream",
     "text": [
      "Using TensorFlow backend.\n"
     ]
    },
    {
     "data": {
      "text/plain": [
       "'2.1.0'"
      ]
     },
     "execution_count": 1,
     "metadata": {},
     "output_type": "execute_result"
    }
   ],
   "source": [
    "import keras\n",
    "keras.__version__"
   ]
  },
  {
   "cell_type": "code",
   "execution_count": 2,
   "metadata": {
    "collapsed": true
   },
   "outputs": [],
   "source": [
    "max_words = 10000\n",
    "maxlen = 30\n",
    "embedding_dims = 100"
   ]
  },
  {
   "cell_type": "markdown",
   "metadata": {},
   "source": [
    "### 训练一个双向LSTM模型"
   ]
  },
  {
   "cell_type": "code",
   "execution_count": 3,
   "metadata": {},
   "outputs": [
    {
     "name": "stdout",
     "output_type": "stream",
     "text": [
      "WARNING:tensorflow:From F:\\Anaconda\\envs\\tensorflow-gpu\\lib\\site-packages\\keras\\backend\\tensorflow_backend.py:1242: calling reduce_sum (from tensorflow.python.ops.math_ops) with keep_dims is deprecated and will be removed in a future version.\n",
      "Instructions for updating:\n",
      "keep_dims is deprecated, use keepdims instead\n",
      "_________________________________________________________________\n",
      "Layer (type)                 Output Shape              Param #   \n",
      "=================================================================\n",
      "embedding_1 (Embedding)      (None, 30, 100)           1000000   \n",
      "_________________________________________________________________\n",
      "bidirectional_1 (Bidirection (None, 64)                34048     \n",
      "_________________________________________________________________\n",
      "dense_1 (Dense)              (None, 32)                2080      \n",
      "_________________________________________________________________\n",
      "dense_2 (Dense)              (None, 3)                 99        \n",
      "=================================================================\n",
      "Total params: 1,036,227\n",
      "Trainable params: 1,036,227\n",
      "Non-trainable params: 0\n",
      "_________________________________________________________________\n"
     ]
    }
   ],
   "source": [
    "#【样本，每个样本30单词，每个单词100维度】\n",
    "from keras import layers\n",
    "from keras.models import Sequential\n",
    "\n",
    "\n",
    "# 定义模型\n",
    "model = Sequential()\n",
    "model.add(layers.Embedding(max_words, embedding_dims, input_length=maxlen))#构建词嵌入，每个单词\n",
    "model.add(layers.Bidirectional(layers.LSTM(32)))\n",
    "#model.add(layers.Flatten())# 3 -> 2\n",
    "model.add(layers.Dense(32, activation='relu'))#负责单词之间的练习和语义\n",
    "model.add(layers.Dense(3, activation='softmax'))\n",
    "model.summary()"
   ]
  },
  {
   "cell_type": "markdown",
   "metadata": {},
   "source": [
    "### 训练并评估一个使用dropout正则化的堆叠LSTM模型(/GRU)"
   ]
  },
  {
   "cell_type": "code",
   "execution_count": 4,
   "metadata": {},
   "outputs": [
    {
     "name": "stdout",
     "output_type": "stream",
     "text": [
      "_________________________________________________________________\n",
      "Layer (type)                 Output Shape              Param #   \n",
      "=================================================================\n",
      "embedding_2 (Embedding)      (None, 30, 100)           1000000   \n",
      "_________________________________________________________________\n",
      "lstm_2 (LSTM)                (None, 30, 32)            17024     \n",
      "_________________________________________________________________\n",
      "lstm_3 (LSTM)                (None, 64)                24832     \n",
      "_________________________________________________________________\n",
      "dense_3 (Dense)              (None, 32)                2080      \n",
      "_________________________________________________________________\n",
      "dense_4 (Dense)              (None, 3)                 99        \n",
      "=================================================================\n",
      "Total params: 1,044,035\n",
      "Trainable params: 1,044,035\n",
      "Non-trainable params: 0\n",
      "_________________________________________________________________\n"
     ]
    }
   ],
   "source": [
    "#【样本，每个样本30单词，每个单词100维度】\n",
    "from keras import layers\n",
    "from keras.models import Sequential\n",
    "\n",
    "\n",
    "# 定义模型\n",
    "model_1 = Sequential()\n",
    "model_1.add(layers.Embedding(max_words, embedding_dims, input_length=maxlen))#构建词嵌入，每个单词\n",
    "model_1.add(layers.LSTM(32,\n",
    "                      dropout=0.1,\n",
    "                      recurrent_dropout=0.5,\n",
    "                      return_sequences=True,\n",
    "                     ))\n",
    "model_1.add(layers.LSTM(64,\n",
    "                     activation='relu',\n",
    "                      dropout=0.1,\n",
    "                      recurrent_dropout=0.5,\n",
    "                     ))\n",
    "#model.add(layers.Flatten())# 3 -> 2\n",
    "model_1.add(layers.Dense(32, activation='relu'))#负责单词之间的练习和语义\n",
    "model_1.add(layers.Dense(3, activation='softmax'))\n",
    "model_1.summary()"
   ]
  },
  {
   "cell_type": "markdown",
   "metadata": {},
   "source": [
    "## Attention_CNN_LSTM"
   ]
  },
  {
   "cell_type": "code",
   "execution_count": 17,
   "metadata": {},
   "outputs": [
    {
     "name": "stdout",
     "output_type": "stream",
     "text": [
      "WARNING:tensorflow:From F:\\Anaconda\\envs\\tensorflow-gpu\\lib\\site-packages\\keras\\backend\\tensorflow_backend.py:1344: calling reduce_mean (from tensorflow.python.ops.math_ops) with keep_dims is deprecated and will be removed in a future version.\n",
      "Instructions for updating:\n",
      "keep_dims is deprecated, use keepdims instead\n",
      "_________________________________________________________________\n",
      "Layer (type)                 Output Shape              Param #   \n",
      "=================================================================\n",
      "merge_11 (Merge)             (None, 30, 9)             0         \n",
      "_________________________________________________________________\n",
      "global_average_pooling1d_2 ( (None, 9)                 0         \n",
      "_________________________________________________________________\n",
      "dense_10 (Dense)             (None, 3)                 30        \n",
      "=================================================================\n",
      "Total params: 2,155,806\n",
      "Trainable params: 2,155,806\n",
      "Non-trainable params: 0\n",
      "_________________________________________________________________\n"
     ]
    },
    {
     "name": "stderr",
     "output_type": "stream",
     "text": [
      "F:\\Anaconda\\envs\\tensorflow-gpu\\lib\\site-packages\\ipykernel_launcher.py:22: UserWarning: The `Merge` layer is deprecated and will be removed after 08/2017. Use instead layers from `keras.layers.merge`, e.g. `add`, `concatenate`, etc.\n"
     ]
    }
   ],
   "source": [
    "from keras.models import Sequential\n",
    "from keras import layers\n",
    "\n",
    "\n",
    "filters = 128\n",
    "kernel_size = 3\n",
    "\n",
    "right_branch = Sequential()\n",
    "right_branch.add(layers.Embedding(max_words, embedding_dims, input_length=maxlen))\n",
    "right_branch.add(layers.Conv1D(filters=filters,\n",
    "                                    kernel_size=kernel_size,\n",
    "                                    padding='valid',\n",
    "                                    activation='relu',\n",
    "                                     ))\n",
    "right_branch.add(layers.MaxPooling1D(3))\n",
    "\n",
    "\n",
    "left_branch = Sequential()\n",
    "left_branch.add(layers.Embedding(max_words, embedding_dims, input_length=maxlen))\n",
    "left_branch.add(layers.LSTM(128, return_sequences=True))\n",
    "\n",
    "merged = layers.Merge([left_branch, right_branch], mode='dot', output_shape=lambda x: x[0])\n",
    "\n",
    "final_model = Sequential()\n",
    "final_model.add(merged)\n",
    "final_model.add(layers.GlobalAveragePooling1D())\n",
    "final_model.add(layers.Dense(3, activation='softmax'))\n",
    "\n",
    "final_model.summary()\n",
    "#right_branch.summary()\n",
    "\n",
    "#model.add(layers.MaxPooling1D(3))"
   ]
  },
  {
   "cell_type": "code",
   "execution_count": null,
   "metadata": {
    "collapsed": true
   },
   "outputs": [],
   "source": []
  }
 ],
 "metadata": {
  "kernelspec": {
   "display_name": "tensorflow-gpu",
   "language": "python",
   "name": "tensorflow-gpu"
  },
  "language_info": {
   "codemirror_mode": {
    "name": "ipython",
    "version": 3
   },
   "file_extension": ".py",
   "mimetype": "text/x-python",
   "name": "python",
   "nbconvert_exporter": "python",
   "pygments_lexer": "ipython3",
   "version": "3.6.2"
  }
 },
 "nbformat": 4,
 "nbformat_minor": 2
}
